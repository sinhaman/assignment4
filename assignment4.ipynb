{
 "cells": [
  {
   "cell_type": "markdown",
   "id": "08063f22",
   "metadata": {},
   "source": [
    "    THEORY QUESTION"
   ]
  },
  {
   "cell_type": "markdown",
   "id": "b482695d",
   "metadata": {},
   "source": [
    "Q1.What is Object-Oriented Programming (OOP)?\n",
    "    ANS:Object-Oriented Programming  is a programming paradigm based on the concept of \"objects,\" which are instances of classes. In OOP, We organize software design around data, or objects, rather than functions and logic."
   ]
  },
  {
   "cell_type": "markdown",
   "id": "778f2368",
   "metadata": {},
   "source": [
    "Q2.What is a class in OOP?\n",
    "ANS:class is a blueprint or template for creating objects (instances). It defines the attributes (properties ) and methods  that the objects created from the class will have."
   ]
  },
  {
   "cell_type": "markdown",
   "id": "19993464",
   "metadata": {},
   "source": [
    "Q3.What is an object in OOP?\n",
    "ANS:An object is an instance of a class. It is a specific, concrete entity that has its own unique set of data (attributes) and methods defined by the class. "
   ]
  },
  {
   "cell_type": "markdown",
   "id": "7a119e48",
   "metadata": {},
   "source": [
    "Q4.What is the difference between abstraction and encapsulation?\n",
    "ANS:Abstraction is the concept of hiding the complex implementation details of an object and exposing only the essential features or functionalities to the outside world.\n",
    "\n",
    " Encapsulation is the concept of bundling the data (attributes) and methods (behaviors) that operate on that data within a single unit (class). It also involves restricting access to some of an object's components to prevent unintended interference and misuse of the data."
   ]
  },
  {
   "cell_type": "markdown",
   "id": "faadb016",
   "metadata": {},
   "source": [
    "Q5. What are dunder methods in Python?\n",
    "ANS:Dunder methods are special methods that have double underscores (__) at both the beginning and the end of their names. These methods are also called magic methods or special methods. They are used to implement various behaviors and functionalities that allow objects to interact with Python's built-in operations."
   ]
  },
  {
   "cell_type": "markdown",
   "id": "2019fabd",
   "metadata": {},
   "source": [
    "Q6.Explain the concept of inheritance in OOP.\n",
    "ANS:inheritance in OOP allows a new class (called the child class or subclass) to inherit attributes and methods from an existing class (called the parent class or superclass), Inheritance enables the reuse of code."
   ]
  },
  {
   "cell_type": "markdown",
   "id": "46ec4412",
   "metadata": {},
   "source": [
    "Q7.What is polymorphism in OOP?\n",
    "ANS:polymorphism in OOP  allows objects of different classes to be treated as objects of a common superclass.Polymorphism is often achieved through method overriding, where a subclass provides its own implementation of a method that is already defined in its superclass. This allows the subclass to define its specific behavior while still maintaining the same method signature."
   ]
  },
  {
   "cell_type": "markdown",
   "id": "cb576129",
   "metadata": {},
   "source": [
    "Q8.How is encapsulation achieved in Python?\n",
    "ANS:encapsulation is achieved by defining classes and controlling the accessWith the use of keyword public,private and protected to the class's attributes and methods. The goal is to prevent unauthorized access or modification of an object's internal state."
   ]
  },
  {
   "cell_type": "markdown",
   "id": "9f846ba1",
   "metadata": {},
   "source": [
    "Q9.What is a constructor in Python?\n",
    "ANS:A constructor in Python is a special method that is automatically called when a new instance (object) of a class is created. The constructor is used to initialize the object's attributes and perform any setup or initialization tasks necessary when the object is created.\n",
    "In Python, the constructor is defined using the __init__ method. The __init__ method is called immediately after the object is created, and it's typically used to assign initial values to the object's attributes."
   ]
  },
  {
   "cell_type": "markdown",
   "id": "929e7a8d",
   "metadata": {},
   "source": [
    "Q10.What are class and static methods in Python?\n",
    "ANS:A class method is a method that is bound to the class rather than an instance of the class. This means it can be called on the class itself, and it receives the class as its first argument ( named cls) instead of an instance (self).\n",
    "\n",
    "A static method is a method that belongs to the class but does not take a reference to the class or an instance as its first argument. It behaves like a regular function but lives in the class's namespace. Static methods are used for utility functions that are related to the class but don't need access to the class or its instances."
   ]
  },
  {
   "cell_type": "markdown",
   "id": "ab2f4bc0",
   "metadata": {},
   "source": [
    "Q11.What is method overloading in Python?\n",
    "ANS:Method overloading is a concept where a class can have multiple methods with the same name but with different arguments (different parameter lists). This allows the method to perform different operations depending on the number or types of arguments passed. Python does not support method overloading in the traditional sense.\n"
   ]
  },
  {
   "cell_type": "markdown",
   "id": "5e2205da",
   "metadata": {},
   "source": [
    "Q12.What is method overriding in OOP?\n",
    "ANS:Method overriding is an important concept in Object-Oriented Programming (OOP) that allows a subclass (or child class) to provide a specific implementation for a method that is already defined in its parent class (or superclass). When a subclass defines a method with the same name and signature as the method in the parent class, the subclass's version of the method overrides the parent class's version.\n"
   ]
  },
  {
   "cell_type": "markdown",
   "id": "68981b61",
   "metadata": {},
   "source": [
    "Q13. What is a property decorator in Python?\\\n",
    "ANS:he property decorator is used to define methods that act like attributes. It allows you to define a method that can be accessed like an attribute, but with additional logic to control getting, setting, or deleting the value of that attribute. This is useful for encapsulating data, providing computed values, or enforcing certain conditions when accessing or modifying an attribute."
   ]
  },
  {
   "cell_type": "markdown",
   "id": "b6030f78",
   "metadata": {},
   "source": [
    "Q14.Why is polymorphism important in OOP?\n",
    "ANS:Polymorphism is a fundamental concept in Object-Oriented Programming (OOP) that allows different objects to respond to the same method or function call in different ways, and in the context of OOP, it refers to the ability of different objects (or classes) to provide different implementations of the same method or interface."
   ]
  },
  {
   "cell_type": "markdown",
   "id": "bd794702",
   "metadata": {},
   "source": [
    "Q15. What is an abstract class in Python?\n",
    "ANS:abstract class in Python is a class that cannot be instantiated on its own and is intended to be subclassed by other classes. It provides a blueprint for other classes and can define methods that must be implemented by its subclasses. An abstract class can include both abstract methods (methods that do not have an implementation) and regular methods (methods that have an implementation)."
   ]
  },
  {
   "cell_type": "markdown",
   "id": "b116433a",
   "metadata": {},
   "source": [
    "Q16.What are the advantages of OOP?\n",
    "ANS:key advantages of Object-Oriented Programming (OOP):\n",
    "1. Modularity\n",
    "2. Reusability\n",
    "3. Scalability and Maintainability\n",
    "4. Encapsulation\n",
    "5. Abstraction\n",
    "6. Polymorphism\n"
   ]
  },
  {
   "cell_type": "markdown",
   "id": "a48ba107",
   "metadata": {},
   "source": [
    "Q17.What is the difference between a class variable and an instance variable?\n",
    "ANS:1. Class Variable\n",
    "A class variable is a variable that is shared by all instances of a class.\n",
    "\n",
    "It is defined within the class but outside any methods, usually at the top of the class.\n",
    "\n",
    "Class variables are common to all objects of the class, and if one object changes the value of a class variable, the change is reflected in all other instances of that class.\n",
    "\n",
    "Class variables can be accessed by using the class name or an instance of the class\n",
    "2. Instance Variable\n",
    "An instance variable is a variable that is specific to a particular instance (object) of the class.\n",
    "\n",
    "It is defined within the __init__() method (constructor), which is called when an object is created.\n",
    "\n",
    "Each instance of the class has its own copy of the instance variables, and modifying one instance’s variable does not affect other instances.\n",
    "\n",
    "Instance variables are accessed using the object instance."
   ]
  },
  {
   "cell_type": "markdown",
   "id": "7ae313b2",
   "metadata": {},
   "source": [
    "Q18What is multiple inheritance in Python?\n",
    "ANS:Multiple inheritance in Python is a feature that allows a class to inherit from more than one class, enabling the new class to inherit attributes and methods from multiple parent classes."
   ]
  },
  {
   "cell_type": "markdown",
   "id": "75af3711",
   "metadata": {},
   "source": [
    "Q19.Explain the purpose of ‘’__str__’ and ‘__repr__’ ‘ methods in Python?\n",
    "ANS:\n",
    "1. __str__ Method:\n",
    "The __str__ method is intended to provide a human-readable or informal string representation of an object.\n",
    "\n",
    "It is called by functions like str() and print() to convert the object into a string that is easy to read or display for end-users.\n",
    "\n",
    "If you don’t define a __str__ method, Python will call __repr__ instead (if it's defined)\n",
    "2. __repr__ Method:\n",
    "The __repr__ method is intended to provide an unambiguous and formal string representation of the object, primarily for debugging and logging purposes.\n",
    "\n",
    "The goal of __repr__ is that it should ideally be a string that, when passed to eval(), can recreate the object. This is not always achievable, but it's a useful guideline.\n",
    "\n",
    "If __str__ is not defined, the __repr__ method is used by default in situations where the string representation of an object is needed (e.g., in print(), if __str__ is not available).\n"
   ]
  },
  {
   "cell_type": "markdown",
   "id": "a3053d53",
   "metadata": {},
   "source": [
    "Q20.What is the significance of the ‘super()’ function in Python?\n",
    "ANS:super() function in Python is used to call methods from a parent (or superclass) in a class. It is especially useful in the context of inheritance to access methods or attributes from the base class without directly referring to the class name. This helps to avoid hard-coding the base class name, making the code more maintainable and flexible."
   ]
  },
  {
   "cell_type": "markdown",
   "id": "f966bf45",
   "metadata": {},
   "source": [
    "Q21.What is the significance of the __del__ method in Python?\n",
    "ANS:the __del__ method is a special method (also called a destructor) that is called when an object is about to be destroyed. It is the counterpart to the __init__ method (the constructor) and is used to clean up resources when an object is no longer needed. The __del__ method is automatically invoked when an object’s reference count drops to zero, meaning that the object is no longer accessible and will be garbage collected."
   ]
  },
  {
   "cell_type": "markdown",
   "id": "a5fb9da5",
   "metadata": {},
   "source": [
    "Q22.What is the difference between @staticmethod and @classmethod in Python?\n",
    "ANS:\n",
    "1. @staticmethod\n",
    "Definition: A static method does not take an implicit first argument (like self or cls). It is a method that belongs to the class but does not have access to any instance-specific data or class-specific data.\n",
    "\n",
    "Access: It can be called on the class itself or an instance of the class, but it cannot modify the class state or instance state.\n",
    "\n",
    "Use case: Static methods are used when you want to group a function that logically belongs to the class but doesn't need to interact with the instance or class.\n",
    "2. @classmethod\n",
    "Definition: A class method takes cls as its first argument, which refers to the class itself (not an instance). This allows the method to access and modify class-level data and call other class methods.\n",
    "\n",
    "Access: It can be called on the class or an instance, but it operates on the class itself, not on instance-specific data.\n",
    "\n",
    "Use case: Class methods are used for operations that are related to the class itself, such as factory methods that create instances of the class or methods that need to modify class-level variables."
   ]
  },
  {
   "cell_type": "markdown",
   "id": "1c90df79",
   "metadata": {},
   "source": [
    "Q23.How does polymorphism work in Python with inheritance?\n",
    "ANS:In the context of inheritance, polymorphism enables child classes to provide specific implementations of methods that are already defined in a parent class. This way, the same method name can behave differently depending on the object that calls it, even though the method has the same name in all the classes."
   ]
  },
  {
   "cell_type": "markdown",
   "id": "23992759",
   "metadata": {},
   "source": [
    "Q24.   What is method chaining in Python OOP?\n",
    "ANS: Method chaining is a technique where multiple methods are called on the same object, one after another, in a single statement. In Python (and in object-oriented programming in general), method chaining is made possible when each method returns the object itself (or another object that allows further method calls). This approach helps create more readable and concise code.\n",
    "To enable method chaining, each method in a class needs to return self (the instance of the object) or another object. By doing this, you can continue calling methods on the result of the previous method call"
   ]
  },
  {
   "cell_type": "markdown",
   "id": "715e8e48",
   "metadata": {},
   "source": [
    "Q25.What is the purpose of the __call__ method in Python?\n",
    "ANS:\n",
    "The __call__ method in Python is a special (magic or dunder) method that allows an instance of a class to be called like a function. By defining this method in a class, you make instances of that class callable objects. In other words, you can use parentheses () to \"call\" an instance, and Python will execute the __call__ method for that instance."
   ]
  },
  {
   "cell_type": "markdown",
   "id": "7f10a700",
   "metadata": {},
   "source": [
    "PRACTICAL QUESTIONS\n"
   ]
  },
  {
   "cell_type": "code",
   "execution_count": null,
   "id": "ae93d864",
   "metadata": {},
   "outputs": [
    {
     "name": "stdout",
     "output_type": "stream",
     "text": [
      "Animal can make a sound\n",
      "Bark!\n"
     ]
    }
   ],
   "source": [
    "# Q1. Create a parent class Animal with a method speak() that prints a generic message. Create a child class Dog\n",
    "# that overrides the speak() method to print \"Bark!\".\n",
    "# ans:\n",
    "class Animal:\n",
    "    def speak(self):\n",
    "        print(\"Animal can make a sound\")\n",
    "class Dog(Animal):\n",
    "    def speak(self):\n",
    "        print(\"Bark!\")\n",
    "animal1 = Animal()\n",
    "animal1.speak()  \n",
    "dog = Dog()\n",
    "dog.speak()  "
   ]
  },
  {
   "cell_type": "code",
   "execution_count": null,
   "id": "788f5efe",
   "metadata": {},
   "outputs": [],
   "source": [
    "#  Q2.Write a program to create an abstract class Shape with a method area(). Derive classes Circle and Rectangle\n",
    "# from it and implement the area() method in both.\n",
    "# ans:\n",
    "from abc import ABC, abstractmethod\n",
    "class Shape(ABC):\n",
    "    @abstractmethod\n",
    "    def area(self):\n",
    "        pass\n",
    "class Circle(Shape):\n",
    "    def __init__(self, radius):\n",
    "        self.radius = radius\n",
    "    def area(self):\n",
    "        return 3.14 * self.radius ** 2\n",
    "class Rectangle(Shape):\n",
    "    def __init__(self, length, width):\n",
    "        self.length = length\n",
    "        self.width = width\n",
    "    def area(self):\n",
    "        return self.length * self.width\n",
    "circle = Circle(5)\n",
    "rectangle = Rectangle(4, 4)\n"
   ]
  },
  {
   "cell_type": "code",
   "execution_count": 8,
   "id": "0de346b4",
   "metadata": {},
   "outputs": [
    {
     "name": "stdout",
     "output_type": "stream",
     "text": [
      "t1Electric car can run on 1000kwhbattery\n"
     ]
    },
    {
     "data": {
      "text/plain": [
       "'cars'"
      ]
     },
     "execution_count": 8,
     "metadata": {},
     "output_type": "execute_result"
    }
   ],
   "source": [
    "# Q3. Implement a multi-level inheritance scenario where a class Vehicle has an attribute type. Derive a class Car\n",
    "# and further derive a class ElectricCar that adds a battery attribute\n",
    "class vehicle:\n",
    "     def __init__(self, type):\n",
    "        self.type=type\n",
    "class car(vehicle):\n",
    "    def car_prop(self):\n",
    "        print(\"every car can run\")\n",
    "class e_car(car):\n",
    "    def __init__(self,model,battery):\n",
    "        self.model = model\n",
    "        self.battery = battery\n",
    "    def e_car_prop(self):\n",
    "        print(f\"{self.model}Electric car can run on {self.battery}battery\")\n",
    "\n",
    "tesla = e_car(\"t1\",\"1000kwh\")\n",
    "tesla.e_car_prop()\n",
    "v1 = vehicle(\"cars\")\n",
    "v1.type\n",
    "\n"
   ]
  },
  {
   "cell_type": "code",
   "execution_count": 9,
   "id": "921acb29",
   "metadata": {},
   "outputs": [
    {
     "name": "stdout",
     "output_type": "stream",
     "text": [
      "The sparrow flies high in the sky.\n",
      "Penguins cannot fly, they swim instead.\n"
     ]
    }
   ],
   "source": [
    "# Q4.Demonstrate polymorphism by creating a base class Bird with a method fly(). Create two derived classes\n",
    "# Sparrow and Penguin that override the fly() method.\n",
    "# ans:\n",
    "# Base class - Bird\n",
    "class Bird:\n",
    "    def fly(self):\n",
    "        print(\"bird can fly.\")\n",
    "\n",
    "# Derived class - Sparrow (inherits from Bird)\n",
    "class Sparrow(Bird):\n",
    "    def fly(self):\n",
    "        print(\"The sparrow flies high in the sky.\")\n",
    "\n",
    "# Derived class - Penguin (inherits from Bird)\n",
    "class Penguin(Bird):\n",
    "    def fly(self):\n",
    "        print(\"Penguins cannot fly, they swim instead.\")\n",
    "\n",
    "# Demonstrating polymorphism\n",
    "def make_bird_fly(bird):\n",
    "    bird.fly()\n",
    "\n",
    "# Create instances of Sparrow and Penguin\n",
    "sparrow = Sparrow()\n",
    "penguin = Penguin()\n",
    "\n",
    "# Calling the fly method on both instances\n",
    "make_bird_fly(sparrow)   # Output: The sparrow flies high in the sky.\n",
    "make_bird_fly(penguin)   # Output: Penguins cannot fly, they swim instead.\n"
   ]
  },
  {
   "cell_type": "code",
   "execution_count": 10,
   "id": "82e0239a",
   "metadata": {},
   "outputs": [
    {
     "name": "stdout",
     "output_type": "stream",
     "text": [
      "Deposited 500. Current balance: 1500\n",
      "Withdrew 200. Current balance: 1300\n",
      "Current balance: 1300\n",
      "Insufficient funds.\n",
      "Deposit amount must be positive.\n"
     ]
    }
   ],
   "source": [
    "# Q5. Write a program to demonstrate encapsulation by creating a class BankAccount with private attributes\n",
    "# balance and methods to deposit, withdraw, and check balance.\n",
    "class BankAccount:\n",
    "    def __init__(self, initial_balance=0):\n",
    "        self.__balance = initial_balance  # Private attribute\n",
    "\n",
    "    # Method to deposit money\n",
    "    def deposit(self, amount):\n",
    "        if amount > 0:\n",
    "            self.__balance += amount\n",
    "            print(f\"Deposited {amount}. Current balance: {self.__balance}\")\n",
    "        else:\n",
    "            print(\"Deposit amount must be positive.\")\n",
    "\n",
    "    # Method to withdraw money\n",
    "    def withdraw(self, amount):\n",
    "        if amount > 0 and amount <= self.__balance:\n",
    "            self.__balance -= amount\n",
    "            print(f\"Withdrew {amount}. Current balance: {self.__balance}\")\n",
    "        elif amount > self.__balance:\n",
    "            print(\"Insufficient funds.\")\n",
    "        else:\n",
    "            print(\"Withdrawal amount must be positive.\")\n",
    "\n",
    "    # Method to check the current balance\n",
    "    def check_balance(self):\n",
    "        print(f\"Current balance: {self.__balance}\")\n",
    "\n",
    "# Create a BankAccount instance\n",
    "account = BankAccount(1000)  # Initial balance is 1000\n",
    "\n",
    "# Perform some operations\n",
    "account.deposit(500)     # Deposit 500\n",
    "account.withdraw(200)    # Withdraw 200\n",
    "account.check_balance()  # Check balance\n",
    "account.withdraw(2000)   # Try to withdraw more than the balance\n",
    "account.deposit(-100)    # Try to deposit a negative amount\n"
   ]
  },
  {
   "cell_type": "code",
   "execution_count": 11,
   "id": "cc89d940",
   "metadata": {},
   "outputs": [
    {
     "name": "stdout",
     "output_type": "stream",
     "text": [
      "The guitar is being played.\n",
      "The piano is being played.\n"
     ]
    }
   ],
   "source": [
    "# Q6. Demonstrate runtime polymorphism using a method play() in a base class Instrument. Derive classes Guitar\n",
    "# and Piano that implement their own version of play().\n",
    "# Base class\n",
    "class Instrument:\n",
    "    def play(self):\n",
    "        print(\"The instrument is being played.\")\n",
    "\n",
    "# Derived class Guitar\n",
    "class Guitar(Instrument):\n",
    "    def play(self):\n",
    "        print(\"The guitar is being played.\")\n",
    "\n",
    "# Derived class Piano\n",
    "class Piano(Instrument):\n",
    "    def play(self):\n",
    "        print(\"The piano is being played.\")\n",
    "\n",
    "# Main function to demonstrate runtime polymorphism\n",
    "def main():\n",
    "    # Create objects of the derived classes\n",
    "    instrument1 = Guitar()  # Runtime polymorphism\n",
    "    instrument2 = Piano()   # Runtime polymorphism\n",
    "\n",
    "    # Call the play() method\n",
    "    instrument1.play()  # Will call Guitar's play()\n",
    "    instrument2.play()  # Will call Piano's play()\n",
    "\n",
    "if __name__ == \"__main__\":\n",
    "    main()\n"
   ]
  },
  {
   "cell_type": "code",
   "execution_count": 12,
   "id": "6b9c977d",
   "metadata": {},
   "outputs": [
    {
     "name": "stdout",
     "output_type": "stream",
     "text": [
      "Sum: 15\n",
      "Difference: 5\n"
     ]
    }
   ],
   "source": [
    "# Q7. Create a class MathOperations with a class method add_numbers() to add two numbers and a static\n",
    "# method subtract_numbers() to subtract two numbers.\n",
    "class MathOperations:\n",
    "    \n",
    "    # Class method to add two numbers\n",
    "    @classmethod\n",
    "    def add_numbers(cls, num1, num2):\n",
    "        return num1 + num2\n",
    "    \n",
    "    # Static method to subtract two numbers\n",
    "    @staticmethod\n",
    "    def subtract_numbers(num1, num2):\n",
    "        return num1 - num2\n",
    "\n",
    "# Demonstrating the usage of class and static methods\n",
    "def main():\n",
    "    # Using the class method to add numbers\n",
    "    sum_result = MathOperations.add_numbers(10, 5)\n",
    "    print(f\"Sum: {sum_result}\")\n",
    "    \n",
    "    # Using the static method to subtract numbers\n",
    "    difference_result = MathOperations.subtract_numbers(10, 5)\n",
    "    print(f\"Difference: {difference_result}\")\n",
    "\n",
    "if __name__ == \"__main__\":\n",
    "    main()\n"
   ]
  },
  {
   "cell_type": "code",
   "execution_count": 13,
   "id": "7a882fe7",
   "metadata": {},
   "outputs": [
    {
     "name": "stdout",
     "output_type": "stream",
     "text": [
      "Total number of persons created: 3\n"
     ]
    }
   ],
   "source": [
    "# Q8. Implement a class Person with a class method to count the total number of persons created.\n",
    "class Person:\n",
    "    # Class attribute to count the number of Person objects\n",
    "    person_count = 0\n",
    "    \n",
    "    def __init__(self, name, age):\n",
    "        self.name = name\n",
    "        self.age = age\n",
    "        # Increment the person_count each time a new Person is created\n",
    "        Person.person_count += 1\n",
    "    \n",
    "    # Class method to return the total number of persons created\n",
    "    @classmethod\n",
    "    def get_person_count(cls):\n",
    "        return cls.person_count\n",
    "\n",
    "# Demonstrating the usage of the class and the class method\n",
    "def main():\n",
    "    # Create Person objects\n",
    "    person1 = Person(\"Alice\", 30)\n",
    "    person2 = Person(\"Bob\", 25)\n",
    "    person3 = Person(\"Charlie\", 35)\n",
    "    \n",
    "    # Use the class method to get the total number of persons created\n",
    "    total_persons = Person.get_person_count()\n",
    "    print(f\"Total number of persons created: {total_persons}\")\n",
    "\n",
    "if __name__ == \"__main__\":\n",
    "    main()\n"
   ]
  },
  {
   "cell_type": "code",
   "execution_count": 14,
   "id": "a694a7c7",
   "metadata": {},
   "outputs": [
    {
     "name": "stdout",
     "output_type": "stream",
     "text": [
      "Fraction 1: 3/4\n",
      "Fraction 2: 5/8\n"
     ]
    }
   ],
   "source": [
    "# Q9Write a class Fraction with attributes numerator and denominator. Override the str method to display the\n",
    "# fraction as \"numerator/denominator\".\n",
    "class Fraction:\n",
    "    def __init__(self, numerator, denominator):\n",
    "        self.numerator = numerator\n",
    "        self.denominator = denominator\n",
    "\n",
    "    # Overriding the __str__ method to display the fraction\n",
    "    def __str__(self):\n",
    "        return f\"{self.numerator}/{self.denominator}\"\n",
    "\n",
    "# Demonstrating the usage of the Fraction class\n",
    "def main():\n",
    "    # Create a Fraction object\n",
    "    fraction1 = Fraction(3, 4)\n",
    "    fraction2 = Fraction(5, 8)\n",
    "\n",
    "    # Print the fractions using the __str__ method\n",
    "    print(f\"Fraction 1: {fraction1}\")\n",
    "    print(f\"Fraction 2: {fraction2}\")\n",
    "\n",
    "if __name__ == \"__main__\":\n",
    "    main()\n"
   ]
  },
  {
   "cell_type": "code",
   "execution_count": 17,
   "id": "dc061f52",
   "metadata": {},
   "outputs": [
    {
     "name": "stdout",
     "output_type": "stream",
     "text": [
      "Vector 1: (2, 3)\n",
      "Vector 2: (4, 5)\n",
      "Result of addition: (6, 8)\n"
     ]
    }
   ],
   "source": [
    "class Vector:\n",
    "    def __init__(self, x, y):\n",
    "        self.x = x\n",
    "        self.y = y\n",
    "\n",
    "    # Overloading the + operator to add two vectors\n",
    "    def __add__(self, other):\n",
    "        # Adding corresponding components of the two vectors\n",
    "        return Vector(self.x + other.x, self.y + other.y)\n",
    "\n",
    "    # To help with displaying the vector (for easy printing)\n",
    "    def __str__(self):\n",
    "        return f\"({self.x}, {self.y})\"\n",
    "\n",
    "# Demonstrating the usage of operator overloading\n",
    "def main():\n",
    "    # Create two Vector objects\n",
    "    vector1 = Vector(2, 3)\n",
    "    vector2 = Vector(4, 5)\n",
    "\n",
    "    # Add the two vectors using the overloaded + operator\n",
    "    result_vector = vector1 + vector2\n",
    "\n",
    "    # Print the result of the addition\n",
    "    print(f\"Vector 1: {vector1}\")\n",
    "    print(f\"Vector 2: {vector2}\")\n",
    "    print(f\"Result of addition: {result_vector}\")\n",
    "\n",
    "if __name__ == \"__main__\":\n",
    "    main()\n"
   ]
  },
  {
   "cell_type": "code",
   "execution_count": 19,
   "id": "c8ff25b5",
   "metadata": {},
   "outputs": [
    {
     "name": "stdout",
     "output_type": "stream",
     "text": [
      "Hello, my name is Azib and I am 30 years old.\n"
     ]
    }
   ],
   "source": [
    "# Q11. Create a class Person with attributes name and age. Add a method greet() that prints \"Hello, my name is\n",
    "# {name} and I am {age} years old.\"\n",
    "class Person:\n",
    "    def __init__(self, name, age):\n",
    "        self.name = name\n",
    "        self.age = age\n",
    "\n",
    "    def greet(self):\n",
    "        print(f\"Hello, my name is {self.name} and I am {self.age} years old.\")\n",
    "\n",
    "# Demonstrating the usage of the Person class\n",
    "def main():\n",
    "    # Create a Person object\n",
    "    person1 = Person(\"Azib\", 30)\n",
    "    \n",
    "    # Call the greet method\n",
    "    person1.greet()\n",
    "\n",
    "if __name__ == \"__main__\":\n",
    "    main()\n"
   ]
  },
  {
   "cell_type": "code",
   "execution_count": 20,
   "id": "b53cb781",
   "metadata": {},
   "outputs": [
    {
     "name": "stdout",
     "output_type": "stream",
     "text": [
      "John's average grade is: 86.60\n"
     ]
    }
   ],
   "source": [
    "# Q12. Implement a class Student with attributes name and grades. Create a method average_grade() to compute\n",
    "# the average of the grades.\n",
    "class Student:\n",
    "    def __init__(self, name, grades):\n",
    "        self.name = name\n",
    "        self.grades = grades  # List of grades\n",
    "\n",
    "    def average_grade(self):\n",
    "        # Compute the average of the grades\n",
    "        if len(self.grades) == 0:\n",
    "            return 0  # Avoid division by zero if there are no grades\n",
    "        return sum(self.grades) / len(self.grades)\n",
    "\n",
    "# Demonstrating the usage of the Student class\n",
    "def main():\n",
    "    # Create a Student object\n",
    "    student1 = Student(\"John\", [85, 90, 78, 92, 88])\n",
    "    \n",
    "    # Call the average_grade method\n",
    "    avg_grade = student1.average_grade()\n",
    "    print(f\"{student1.name}'s average grade is: {avg_grade:.2f}\")\n",
    "\n",
    "if __name__ == \"__main__\":\n",
    "    main()\n"
   ]
  },
  {
   "cell_type": "code",
   "execution_count": 21,
   "id": "f2998b1d",
   "metadata": {},
   "outputs": [
    {
     "name": "stdout",
     "output_type": "stream",
     "text": [
      "The area of the rectangle is: 50\n"
     ]
    }
   ],
   "source": [
    "# Q13. Create a class Rectangle with methods set_dimensions() to set the dimensions and area() to calculate the\n",
    "# area.\n",
    "class Rectangle:\n",
    "    def __init__(self):\n",
    "        self.length = 0\n",
    "        self.width = 0\n",
    "\n",
    "    def set_dimensions(self, length, width):\n",
    "        \"\"\"Set the length and width of the rectangle.\"\"\"\n",
    "        self.length = length\n",
    "        self.width = width\n",
    "\n",
    "    def area(self):\n",
    "        \"\"\"Calculate and return the area of the rectangle.\"\"\"\n",
    "        return self.length * self.width\n",
    "\n",
    "# Demonstrating the usage of the Rectangle class\n",
    "def main():\n",
    "    # Create a Rectangle object\n",
    "    rectangle1 = Rectangle()\n",
    "    \n",
    "    # Set the dimensions of the rectangle\n",
    "    rectangle1.set_dimensions(5, 10)\n",
    "    \n",
    "    # Calculate and print the area of the rectangle\n",
    "    print(f\"The area of the rectangle is: {rectangle1.area()}\")\n",
    "\n",
    "if __name__ == \"__main__\":\n",
    "    main()\n"
   ]
  },
  {
   "cell_type": "code",
   "execution_count": null,
   "id": "41367a75",
   "metadata": {},
   "outputs": [],
   "source": [
    "# Q14. Create a class Employee with a method calculate_salary() that computes the salary based on hours worked\n",
    "# and hourly rate. Create a derived class Manager that adds a bonus to the salary.\n",
    "class Employee:\n",
    "    def __init__(self, name, hours_worked, hourly_rate):\n",
    "        self.name = name\n",
    "        self.hours_worked = hours_worked\n",
    "        self.hourly_rate = hourly_rate\n",
    "\n",
    "    def calculate_salary(self):\n",
    "        \"\"\"Calculate salary based on hours worked and hourly rate.\"\"\"\n",
    "        return self.hours_worked * self.hourly_rate\n",
    "\n",
    "class Manager(Employee):\n",
    "    def __init__(self, name, hours_worked, hourly_rate, bonus):\n",
    "        # Call the parent class constructor\n",
    "        super().__init__(name, hours_worked, hourly_rate)\n",
    "        self.bonus = bonus\n",
    "\n",
    "    def calculate_salary(self):\n",
    "        \"\"\"Override calculate_salary to include a bonus for managers.\"\"\"\n",
    "        base_salary = super().calculate_salary()  # Call Employee's calculate_salary\n",
    "        return base_salary + self.bonus\n",
    "\n",
    "# Demonstrating the usage of Employee and Manager classes\n",
    "def main():\n",
    "    # Create an Employee object\n",
    "    employee = Employee(\"Alice\", 40, 20)\n",
    "    print(f\"Employee {employee.name}'s salary: ${employee.calculate_salary()}\")\n",
    "\n",
    "    # Create a Manager object\n",
    "    manager = Manager(\"Bob\", 40, 30, 500)\n",
    "    print(f\"Manager {manager.name}'s salary: ${manager.calculate_salary()}\")\n",
    "\n",
    "if __name__ == \"__main__\":\n",
    "    main()\n"
   ]
  },
  {
   "cell_type": "code",
   "execution_count": 23,
   "id": "a5e9329c",
   "metadata": {},
   "outputs": [
    {
     "name": "stdout",
     "output_type": "stream",
     "text": [
      "Total price of Laptop: 3000\n"
     ]
    }
   ],
   "source": [
    "# Q15. Create a class Product with attributes name, price, and quantity. Implement a method total_price() that\n",
    "# calculates the total price of the product.\n",
    "class Product:\n",
    "    def __init__(self, name, price, quantity):\n",
    "        self.name = name\n",
    "        self.price = price\n",
    "        self.quantity = quantity\n",
    "\n",
    "    def total_price(self):\n",
    "        \"\"\"Calculate the total price of the product based on quantity and price.\"\"\"\n",
    "        return self.price * self.quantity\n",
    "\n",
    "# Demonstrating the usage of the Product class\n",
    "def main():\n",
    "    # Create a Product object\n",
    "    product1 = Product(\"Laptop\", 1000, 3)\n",
    "    \n",
    "    # Calculate and print the total price of the product\n",
    "    print(f\"Total price of {product1.name}: {product1.total_price()}\")\n",
    "\n",
    "if __name__ == \"__main__\":\n",
    "    main()\n"
   ]
  },
  {
   "cell_type": "code",
   "execution_count": 24,
   "id": "bcafd836",
   "metadata": {},
   "outputs": [
    {
     "name": "stdout",
     "output_type": "stream",
     "text": [
      "The sound of a cow is: Moo\n",
      "The sound of a sheep is: Baa\n"
     ]
    }
   ],
   "source": [
    "# Q16. Create a class Animal with an abstract method sound(). Create two derived classes Cow and Sheep that\n",
    "# implement the sound() method.\n",
    "from abc import ABC, abstractmethod\n",
    "\n",
    "# Abstract class Animal\n",
    "class Animal(ABC):\n",
    "    \n",
    "    @abstractmethod\n",
    "    def sound(self):\n",
    "        \"\"\"Abstract method to be implemented by derived classes.\"\"\"\n",
    "        pass\n",
    "\n",
    "# Derived class Cow\n",
    "class Cow(Animal):\n",
    "    def sound(self):\n",
    "        return \"Moo\"\n",
    "\n",
    "# Derived class Sheep\n",
    "class Sheep(Animal):\n",
    "    def sound(self):\n",
    "        return \"Baa\"\n",
    "\n",
    "# Demonstrating the usage of the Animal, Cow, and Sheep classes\n",
    "def main():\n",
    "    # Create objects of Cow and Sheep\n",
    "    cow = Cow()\n",
    "    sheep = Sheep()\n",
    "\n",
    "    # Call the sound method for both animals\n",
    "    print(f\"The sound of a cow is: {cow.sound()}\")\n",
    "    print(f\"The sound of a sheep is: {sheep.sound()}\")\n",
    "\n",
    "if __name__ == \"__main__\":\n",
    "    main()\n"
   ]
  },
  {
   "cell_type": "code",
   "execution_count": 25,
   "id": "0991cb97",
   "metadata": {},
   "outputs": [
    {
     "name": "stdout",
     "output_type": "stream",
     "text": [
      "Title: 1984\n",
      "Author: George Orwell\n",
      "Year Published: 1949\n"
     ]
    }
   ],
   "source": [
    "# Q17. Create a class Book with attributes title, author, and year_published. Add a method get_book_info() that\n",
    "# returns a formatted string with the book's details.\n",
    "class Book:\n",
    "    def __init__(self, title, author, year_published):\n",
    "        self.title = title\n",
    "        self.author = author\n",
    "        self.year_published = year_published\n",
    "\n",
    "    def get_book_info(self):\n",
    "        \"\"\"Returns a formatted string with the book's details.\"\"\"\n",
    "        return f\"Title: {self.title}\\nAuthor: {self.author}\\nYear Published: {self.year_published}\"\n",
    "\n",
    "# Demonstrating the usage of the Book class\n",
    "def main():\n",
    "    # Create a Book object\n",
    "    book1 = Book(\"1984\", \"George Orwell\", 1949)\n",
    "    \n",
    "    # Get and print the book's information\n",
    "    print(book1.get_book_info())\n",
    "\n",
    "if __name__ == \"__main__\":\n",
    "    main()\n"
   ]
  },
  {
   "cell_type": "code",
   "execution_count": 26,
   "id": "45028c0c",
   "metadata": {},
   "outputs": [
    {
     "name": "stdout",
     "output_type": "stream",
     "text": [
      "House Details:\n",
      "Address: 123 Elm Street\n",
      "Price: $250000\n",
      "\n",
      "Mansion Details:\n",
      "Address: 456 Oak Avenue\n",
      "Price: $1200000\n",
      "Number of Rooms: 10\n"
     ]
    }
   ],
   "source": [
    "# Q18. Create a class House with attributes address and price. Create a derived class Mansion that adds an\n",
    "# attribute number_of_rooms.\n",
    "class House:\n",
    "    def __init__(self, address, price):\n",
    "        self.address = address\n",
    "        self.price = price\n",
    "\n",
    "    def get_details(self):\n",
    "        \"\"\"Returns the details of the house.\"\"\"\n",
    "        return f\"Address: {self.address}\\nPrice: ${self.price}\"\n",
    "\n",
    "# Derived class Mansion\n",
    "class Mansion(House):\n",
    "    def __init__(self, address, price, number_of_rooms):\n",
    "        # Call the parent class constructor to initialize address and price\n",
    "        super().__init__(address, price)\n",
    "        self.number_of_rooms = number_of_rooms\n",
    "\n",
    "    def get_details(self):\n",
    "        \"\"\"Returns the details of the mansion, including the number of rooms.\"\"\"\n",
    "        base_details = super().get_details()  # Get details from the parent class\n",
    "        return f\"{base_details}\\nNumber of Rooms: {self.number_of_rooms}\"\n",
    "\n",
    "# Demonstrating the usage of the House and Mansion classes\n",
    "def main():\n",
    "    # Create a House object\n",
    "    house = House(\"123 Elm Street\", 250000)\n",
    "    \n",
    "    # Create a Mansion object\n",
    "    mansion = Mansion(\"456 Oak Avenue\", 1200000, 10)\n",
    "    \n",
    "    # Print the details of the house and mansion\n",
    "    print(\"House Details:\")\n",
    "    print(house.get_details())\n",
    "    print(\"\\nMansion Details:\")\n",
    "    print(mansion.get_details())\n",
    "\n",
    "if __name__ == \"__main__\":\n",
    "    main()\n"
   ]
  }
 ],
 "metadata": {
  "kernelspec": {
   "display_name": "Python 3",
   "language": "python",
   "name": "python3"
  },
  "language_info": {
   "codemirror_mode": {
    "name": "ipython",
    "version": 3
   },
   "file_extension": ".py",
   "mimetype": "text/x-python",
   "name": "python",
   "nbconvert_exporter": "python",
   "pygments_lexer": "ipython3",
   "version": "3.13.2"
  }
 },
 "nbformat": 4,
 "nbformat_minor": 5
}
